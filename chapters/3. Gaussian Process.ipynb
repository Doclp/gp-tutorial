{
 "cells": [
  {
   "cell_type": "markdown",
   "metadata": {},
   "source": [
    "# Gaussian processes"
   ]
  },
  {
   "cell_type": "markdown",
   "metadata": {},
   "source": [
    "Now that we've encountered a means for mathematically describing the similarity between data we need to develop some method to take this information and perform regression. \n",
    "\n",
    "Suppose every observation which we make is drawn from a normal distribution which has some mean value, and some standard deviation.\n",
    "\n",
    "\\\\[ y \\sim \\mathcal{N}(\\mu, \\sigma) \\\\]\n",
    "\n",
    "This means that if we have a whole set of data it will be drawn from a multivariate normal distribution: we'll have a collection of random variables. So for two data\n",
    "\n",
    "\\\\[ (y_1, y_2) \\sim \\mathcal{N}(\\vec{\\mu}, \\Sigma) \\\\]\n",
    "\n",
    "where $\\Sigma$ is the covariance matrix for the multivariate normal distribution. We can extend this continually to whatever size of data set we have."
   ]
  },
  {
   "cell_type": "markdown",
   "metadata": {},
   "source": [
    "We define $\\Sigma$ as the covariance of the points $(x_1, x_2)$ where the data $(y_1, y_2)$ are observed, and we end up with a *Gaussian process prior*; for simplicity we normally take the mean to be zero (and this can be ensured by pre-processing our data)."
   ]
  },
  {
   "cell_type": "code",
   "execution_count": null,
   "metadata": {},
   "outputs": [],
   "source": []
  }
 ],
 "metadata": {
  "kernelspec": {
   "display_name": "Python 3",
   "language": "python",
   "name": "python3"
  },
  "language_info": {
   "codemirror_mode": {
    "name": "ipython",
    "version": 3
   },
   "file_extension": ".py",
   "mimetype": "text/x-python",
   "name": "python",
   "nbconvert_exporter": "python",
   "pygments_lexer": "ipython3",
   "version": "3.5.2"
  },
  "latex_envs": {
   "bibliofile": "biblio.bib",
   "cite_by": "apalike",
   "current_citInitial": 1,
   "eqLabelWithNumbers": true,
   "eqNumInitial": 0
  }
 },
 "nbformat": 4,
 "nbformat_minor": 2
}
